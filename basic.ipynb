{
 "cells": [
  {
   "cell_type": "code",
   "execution_count": 12,
   "id": "b773e11a",
   "metadata": {},
   "outputs": [
    {
     "name": "stdout",
     "output_type": "stream",
     "text": [
      "((0.0, 0.0, 0.0), (3.141592653589793, 0.0, 3.141592653589793))\n",
      "((0.0, 0.0, 0.0), (0.0, -0.0, 0.0))\n",
      "((0.0, 0.0, 0.0), (0.0, -0.0, 0.0))\n",
      "((0.0, 0.0, 0.0), (0.0, -0.0, 0.0))\n",
      "((0.0, 0.0, 0.0), (0.0, -0.0, 0.0))\n",
      "((0.0, 0.0, 0.0), (3.141592653589793, 0.0, 3.141592653589793))\n",
      "((0.0, 0.0, 0.0), (3.141592653589793, 0.0, 3.141592653589793))\n",
      "((0.0, 0.0, 0.0), (3.141592653589793, 0.0, 3.141592653589793))\n"
     ]
    }
   ],
   "source": [
    "import cadquery as cq\n",
    "from cadquery import exporters\n",
    "from IPython.display import SVG, DisplayObject\n",
    "\n",
    "# pts = [\n",
    "#     (-20, -20),\n",
    "#     (20, 0),\n",
    "#     (20, 20),\n",
    "#     (-20, -20),\n",
    "# ]\n",
    "# result = cq.Workplane(\"front\").polyline(pts).extrude(20)\n",
    "\n",
    "(L, H, W, t) = (100.0, 20.0, 20.0, 1.0)\n",
    "pts = [\n",
    "    (0, 10),\n",
    "    (10, -10),\n",
    "    (0, -10),\n",
    "]\n",
    "result = cq.Workplane(\"front\").polyline(pts).mirrorY()\n",
    "\n",
    "# print each edge\n",
    "for edge in result.edges().vals():\n",
    "    for vert in edge.vertices():\n",
    "        print(vert.center())\n",
    "\n",
    "\n",
    "# exporters.export(result, 'tmp.stl')\n",
    "\n",
    "# display(SVG(result.toSvg()))\n"
   ]
  },
  {
   "cell_type": "code",
   "execution_count": null,
   "id": "f233f13a-7ba1-4cbd-888d-a2d7b1cd192b",
   "metadata": {},
   "outputs": [],
   "source": []
  },
  {
   "cell_type": "code",
   "execution_count": null,
   "id": "f1c56474-06ba-4b26-8146-6f583fd2d0eb",
   "metadata": {},
   "outputs": [],
   "source": []
  }
 ],
 "metadata": {
  "kernelspec": {
   "display_name": "Python 3 (ipykernel)",
   "language": "python",
   "name": "python3"
  },
  "language_info": {
   "codemirror_mode": {
    "name": "ipython",
    "version": 3
   },
   "file_extension": ".py",
   "mimetype": "text/x-python",
   "name": "python",
   "nbconvert_exporter": "python",
   "pygments_lexer": "ipython3",
   "version": "3.9.2"
  }
 },
 "nbformat": 4,
 "nbformat_minor": 5
}
